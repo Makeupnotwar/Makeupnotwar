{
  "nbformat": 4,
  "nbformat_minor": 0,
  "metadata": {
    "colab": {
      "provenance": [],
      "authorship_tag": "ABX9TyObTyautz7igMb3G7s9wbz0",
      "include_colab_link": true
    },
    "kernelspec": {
      "name": "python3",
      "display_name": "Python 3"
    },
    "language_info": {
      "name": "python"
    }
  },
  "cells": [
    {
      "cell_type": "markdown",
      "metadata": {
        "id": "view-in-github",
        "colab_type": "text"
      },
      "source": [
        "<a href=\"https://colab.research.google.com/github/Makeupnotwar/Makeupnotwar/blob/main/Fifa.ipynb\" target=\"_parent\"><img src=\"https://colab.research.google.com/assets/colab-badge.svg\" alt=\"Open In Colab\"/></a>"
      ]
    },
    {
      "cell_type": "markdown",
      "source": [
        "#Context\n",
        "\n",
        "#Objective\n",
        "\n"
      ],
      "metadata": {
        "id": "ZyKTkPUkYzqK"
      }
    },
    {
      "cell_type": "markdown",
      "source": [
        "##Data Dictionary"
      ],
      "metadata": {
        "id": "FH9NoUtGY8mh"
      }
    },
    {
      "cell_type": "code",
      "execution_count": null,
      "metadata": {
        "id": "iwQDrc4GYNR5"
      },
      "outputs": [],
      "source": [
        "# import libraries for data manipulation\n",
        "import numpy as np\n",
        "import pandas as pd\n",
        "\n",
        "# import libraries for data visualization\n",
        "import seaborn as sns\n",
        "import matplotlib.pyplot as plt\n",
        "%matplotlib inline\n",
        "\n",
        "# import libraries for statistical analysis\n"
      ]
    }
  ]
}